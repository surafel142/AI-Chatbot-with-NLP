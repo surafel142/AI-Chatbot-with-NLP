# Model Training Notebook Content

import sys
sys.path.append('..')

from ai_chatbot import NLPChatbot
import matplotlib.pyplot as plt
import seaborn as sns
import pandas as pd
import numpy as np

# Initialize chatbot
bot = NLPChatbot()

# Create training data
training_data = bot.create_training_data()
print("Training Data Sample:")
print(training_data.head())

# Prepare features
X, y = bot.prepare_features()

# Train model
history, accuracy = bot.train_model(X, y, epochs=100)

# Plot training history
bot.plot_training_history(history)

# Evaluate model
bot.evaluate_chatbot()

print(f"Final Model Accuracy: {accuracy:.4f}")