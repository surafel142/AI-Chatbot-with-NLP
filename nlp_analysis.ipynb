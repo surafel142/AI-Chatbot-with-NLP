# NLP Analysis Notebook Content

import sys
sys.path.append('..')

from ai_chatbot import NLPChatbot
import matplotlib.pyplot as plt
import seaborn as sns
import pandas as pd
import nltk
from wordcloud import WordCloud

# Initialize
bot = NLPChatbot()
bot.create_training_data()

# Text analysis
print("Text Analysis")
print("=" * 30)

# Pattern length analysis
pattern_lengths = bot.training_data['pattern'].str.len()
print(f"Average pattern length: {pattern_lengths.mean():.1f} characters")
print(f"Max pattern length: {pattern_lengths.max()} characters")
print(f"Min pattern length: {pattern_lengths.min()} characters")

# Intent distribution
intent_dist = bot.training_data['intent'].value_counts()
plt.figure(figsize=(10, 6))
intent_dist.plot(kind='bar', color='lightblue')
plt.title('Intent Distribution')
plt.xlabel('Intents')
plt.ylabel('Number of Patterns')
plt.xticks(rotation=45)
plt.tight_layout()
plt.show()

# Word frequency analysis
all_text = ' '.join(bot.training_data['pattern'].str.lower())
wordcloud = WordCloud(width=800, height=400, background_color='white').generate(all_text)

plt.figure(figsize=(12, 6))
plt.imshow(wordcloud, interpolation='bilinear')
plt.axis('off')
plt.title('Most Frequent Words in Training Data')
plt.show()